{
 "cells": [
  {
   "cell_type": "code",
   "execution_count": 22,
   "id": "c2e04f16-cd6d-4fd8-bf4e-9d5445154410",
   "metadata": {},
   "outputs": [],
   "source": [
    "#!/usr/bin/python\n",
    "# -*- coding: utf-8 -*-\n",
    "\n",
    "import numpy as np\n",
    "# Importing standard Qiskit libraries\n",
    "from qiskit import QuantumCircuit, transpile, Aer, IBMQ, execute\n",
    "from qiskit.tools.jupyter import *\n",
    "from qiskit.visualization import *\n",
    "from qiskit.providers.aer import QasmSimulator\n",
    "\n",
    "# Loading your IBM Quantum account(s)\n",
    "# provider = IBMQ.load_account()\n",
    "bk = Aer.get_backend(\"qasm_simulator\") # Use QASM Simulator for backend"
   ]
  },
  {
   "cell_type": "markdown",
   "id": "a568a297-8c60-4704-b08d-4c46cab6bde7",
   "metadata": {
    "tags": []
   },
   "source": [
    "## Answer to task 1\n",
    "Usage: <br>\n",
    "    ```final_quantum_circuit = qram(vector=[vector]).main()```"
   ]
  },
  {
   "cell_type": "code",
   "execution_count": 33,
   "id": "62bb2925-7e8b-4d39-b50f-b2cdf14b28ee",
   "metadata": {},
   "outputs": [],
   "source": [
    "class qram(object):\n",
    "    \n",
    "    \"\"\"Returns a quantum circuit for the targets solutions\n",
    "    \n",
    "    Note:\n",
    "        This is a 2 qubit implementation, it won't work on 2 ^ N qubits\n",
    "\n",
    "        Target Solutions:\n",
    "            They are the indices of binary numbers where two \n",
    "            adjacent bits will always have different values.\n",
    "\n",
    "    Args:\n",
    "        vector (list[int]): Vector of Numbers\n",
    "\n",
    "    Attributes:\n",
    "        main (self): Returns quantum circuit for superposition of targets indices \n",
    "        _oracle (self): Stores the Quantum Circuit in self.circ\n",
    "        \n",
    "    Raises:\n",
    "      AttributeError: If length of the vector is greater than 4 or less then 1.\n",
    "      TypeError: If the type of vector is not list or if type of elements is not integer or float.\n",
    "      \n",
    "    \"\"\"\n",
    "    \n",
    "    \n",
    "    def __init__(self, vector: list):\n",
    "        \"\"\"\n",
    "        Initializes:\n",
    "            self.vector list[int]: Vector Of Numbers\n",
    "            self.binary_vector list[str]: Binary instance of self.vector\n",
    "            self.indices list[int]: Indices of the targets\n",
    "            self.zfill int: Length of the longest binary number\n",
    "            self.circ QuantumCircuit: The Final Quantum Circuit\n",
    "        \"\"\"\n",
    "        \n",
    "        # error handeling\n",
    "        \n",
    "        if len(vector) > 4:\n",
    "            raise AttributeError('Length of vector should be less than 4 and greater than 1')\n",
    "        if type(vector) != list:\n",
    "            raise TypeError('The type of vector should be list')\n",
    "        for i in vector:\n",
    "            try:\n",
    "                vector[vector.index(i)] = int(i)\n",
    "            except TypeError:\n",
    "                raise TypeError('The element of vector should be integer')\n",
    "                \n",
    "        self.vector = vector\n",
    "        self.binary_vector = []\n",
    "        self.indices = []      \n",
    "        self.zfill: int = None \n",
    "        self.circ = None\n",
    "        \n",
    "    \n",
    "    def main(self) -> 'QuantumCiurcuit':\n",
    "        \"\"\"\n",
    "        Return:\n",
    "            Quantum circuit: if target indices exist\n",
    "            \"No targets found\": if no target indices found\n",
    "        \"\"\"\n",
    "        \n",
    "        temp = []\n",
    "        \n",
    "        # Find the zfill\n",
    "        \n",
    "        for num in self.vector:\n",
    "            temp.append(str(bin(num)).replace(\"0b\", \"\"))\n",
    "        self.zfill = len(max(temp, key=len))\n",
    "        \n",
    "        # convert to binary\n",
    "        \n",
    "        for num in self.vector:\n",
    "            binary = bin(num)[2:].zfill(self.zfill)\n",
    "            self.binary_vector.append(binary)\n",
    "        \n",
    "        \n",
    "        # find target indices\n",
    "        \n",
    "        if self.zfill == 4:\n",
    "            for num in self.binary_vector:\n",
    "                if num[0] == num[2] and num[1] == num[3]:\n",
    "                        self.indices.append(self.binary_vector.index(num))\n",
    "        elif self.zfill == 3:\n",
    "            for num in self.binary_vector:\n",
    "                if num[0] == num[2] and num[0] != num[1]:\n",
    "                    self.indices.append(self.binary_vector.index(num))\n",
    "        elif self.zfill == 2:\n",
    "            for num in self.binary_vector:\n",
    "                if num[0] != num[1]:\n",
    "                    self.indices.append(self.binary_vector.index(num))\n",
    "        elif self.zfill == 1:\n",
    "            self.indices.append(0)\n",
    "        \n",
    "        if len(self.indices) == 0:\n",
    "            print(\"No target indices found\")\n",
    "            return None\n",
    "            \n",
    "        self._oracle()\n",
    "        return self.circ\n",
    "    \n",
    "    def _oracle(self) -> None:\n",
    "        \"\"\"\n",
    "        Stores the Quantum Circuit in self.circ\n",
    "        \"\"\"\n",
    "        \n",
    "        circ = QuantumCircuit(2, 2) # inittialize 2 qubit quantum circuit\n",
    "        indices = self.indices\n",
    "        \n",
    "        # Add the required gates according for the indices\n",
    "        \n",
    "        if len(indices) == 4:\n",
    "            circ.h(0)\n",
    "            circ.h(1)\n",
    "            \n",
    "        elif indices == [0]:\n",
    "            pass\n",
    "        \n",
    "        elif indices == [0, 1] or indices == [1, 0]:\n",
    "            circ.h(0)\n",
    "\n",
    "        elif indices == [0, 2] or indices == [2, 0]:\n",
    "            circ.h(1)\n",
    "\n",
    "        elif indices == [0, 3] or indices == [3, 0]:\n",
    "            circ.h(0)\n",
    "            circ.cx(0, 1)\n",
    "\n",
    "        elif indices == [1, 2] or indices == [2, 1]:\n",
    "            circ.h(1)\n",
    "            circ.cx(1, 0)\n",
    "            circ.x(0)\n",
    "\n",
    "        elif indices == [1, 3] or indices == [3, 1]:\n",
    "            circ.x(0)\n",
    "            circ.h(1)\n",
    "\n",
    "\n",
    "        elif indices == [2, 3] or indices == [3, 2]:\n",
    "            circ.h(0)\n",
    "            circ.x(1)\n",
    "        self.circ = circ\n",
    "        \n",
    "        return"
   ]
  },
  {
   "cell_type": "markdown",
   "id": "a773ad34-42a7-42da-ad3a-62887f94f320",
   "metadata": {
    "tags": []
   },
   "source": [
    "### Test 1\n",
    "`vector = [1,5,7,10]`"
   ]
  },
  {
   "cell_type": "code",
   "execution_count": 32,
   "id": "9f26cdf5-6e0a-46a6-99f7-23ae58749109",
   "metadata": {},
   "outputs": [
    {
     "data": {
      "image/png": "[encoded data removed]",
      "text/plain": [
       "<Figure size 504x360 with 1 Axes>"
      ]
     },
     "execution_count": 32,
     "metadata": {},
     "output_type": "execute_result"
    }
   ],
   "source": [
    "test1 = qram(vector=[1,5,7,10]).main()\n",
    "\n",
    "test1.measure_all() # measure all the qubits\n",
    "plot_histogram(execute(test1, bk, shots=8000).result().get_counts(test1)) # get result and plot the graph"
   ]
  },
  {
   "cell_type": "markdown",
   "id": "c0efb0d0",
   "metadata": {},
   "source": [
    "**The Histogram is right indexed!**"
   ]
  },
  {
   "cell_type": "markdown",
   "id": "dd88aa16-23f8-4240-8994-ea4c53f9271f",
   "metadata": {},
   "source": [
    "### Test 2\n",
    "`vector = [1,5,4,2]`"
   ]
  },
  {
   "cell_type": "code",
   "execution_count": 31,
   "id": "4c0eac1b-f7ac-45af-8186-8973fae380c9",
   "metadata": {},
   "outputs": [
    {
     "data": {
      "image/png": "[encoded data removed]",
      "text/plain": [
       "<Figure size 504x360 with 1 Axes>"
      ]
     },
     "execution_count": 31,
     "metadata": {},
     "output_type": "execute_result"
    }
   ],
   "source": [
    "test2 = qram(vector=[1,5,4,2]).main()\n",
    "\n",
    "test2.measure_all() # measure all the qubits\n",
    "plot_histogram(execute(test2, bk, shots=8000).result().get_counts(test2)) # get result and plot the graph\n",
    "# the histogram is right indexed!"
   ]
  },
  {
   "cell_type": "markdown",
   "id": "4f1667f0",
   "metadata": {},
   "source": [
    "**The Histogram is right indexed!**"
   ]
  },
  {
   "cell_type": "code",
   "execution_count": null,
   "id": "1cb0fc3b",
   "metadata": {},
   "outputs": [],
   "source": []
  }
 ],
 "metadata": {
  "kernelspec": {
   "display_name": "Python 3 (ipykernel)",
   "language": "python",
   "name": "python3"
  },
  "language_info": {
   "codemirror_mode": {
    "name": "ipython",
    "version": 3
   },
   "file_extension": ".py",
   "mimetype": "text/x-python",
   "name": "python",
   "nbconvert_exporter": "python",
   "pygments_lexer": "ipython3",
   "version": "3.9.7"
  },
  "widgets": {
   "application/vnd.jupyter.widget-state+json": {
    "state": {
     "075e4712b42640bfaffb2b5d00523daf": {
      "model_module": "@jupyter-widgets/controls",
      "model_module_version": "1.5.0",
      "model_name": "DescriptionStyleModel",
      "state": {
       "description_width": ""
      }
     },
     "16b66ec21e2e43b888dc20735f38f776": {
      "model_module": "@jupyter-widgets/controls",
      "model_module_version": "1.5.0",
      "model_name": "GridBoxModel",
      "state": {
       "children": [
        "IPY_MODEL_e4aa52bbf76348dab1256e895d3f6d6b"
       ],
       "layout": "IPY_MODEL_a58ec10296b0492a91a73f70a6bac7bb"
      }
     },
     "235022d8df8e487d814d21d4643e43c3": {
      "model_module": "@jupyter-widgets/controls",
      "model_module_version": "1.5.0",
      "model_name": "HTMLModel",
      "state": {
       "layout": "IPY_MODEL_977d7d65fea44d84ab2594aa8c802504",
       "style": "IPY_MODEL_9bc9be6773024c69abfedebd467812db",
       "value": "<h5>Job ID</h5>"
      }
     },
     "29700edb1ecc4edfafefa13bdc4d3caf": {
      "model_module": "@jupyter-widgets/base",
      "model_module_version": "1.2.0",
      "model_name": "LayoutModel",
      "state": {
       "grid_area": "right",
       "padding": "0px 0px 0px 0px",
       "width": "70px"
      }
     },
     "3a0c64478a894ff7a7e2e9a5f46ea603": {
      "model_module": "@jupyter-widgets/base",
      "model_module_version": "1.2.0",
      "model_name": "LayoutModel",
      "state": {
       "width": "95px"
      }
     },
     "3f329556617a4b6f8eaa05c0536615f2": {
      "model_module": "@jupyter-widgets/controls",
      "model_module_version": "1.5.0",
      "model_name": "DescriptionStyleModel",
      "state": {
       "description_width": ""
      }
     },
     "57f054d778b7442dbbbf2872c7bcb1e6": {
      "model_module": "@jupyter-widgets/base",
      "model_module_version": "1.2.0",
      "model_name": "LayoutModel",
      "state": {
       "width": "145px"
      }
     },
     "6fb0a4edd43340c597c2aeb0c27da470": {
      "model_module": "@jupyter-widgets/base",
      "model_module_version": "1.2.0",
      "model_name": "LayoutModel",
      "state": {}
     },
     "7994fe978df34cbdbc423110b9ee685a": {
      "model_module": "@jupyter-widgets/controls",
      "model_module_version": "1.5.0",
      "model_name": "HBoxModel",
      "state": {
       "children": [
        "IPY_MODEL_235022d8df8e487d814d21d4643e43c3",
        "IPY_MODEL_8167d99b962144f19846a68f1653cf39",
        "IPY_MODEL_f0d3f079e2a042aba7ab37d055de1fc4",
        "IPY_MODEL_bc568ba0d9a042758dafcce3d45ec2c4",
        "IPY_MODEL_ce31a5c909f249feb2ff49fc3cd20b7e"
       ],
       "layout": "IPY_MODEL_79d276a481ca4f4a9f53312746ee00b0"
      }
     },
     "79d276a481ca4f4a9f53312746ee00b0": {
      "model_module": "@jupyter-widgets/base",
      "model_module_version": "1.2.0",
      "model_name": "LayoutModel",
      "state": {
       "margin": "0px 0px 0px 37px",
       "width": "600px"
      }
     },
     "7a6220ada4584d62bad8d23f5d4e04f2": {
      "model_module": "@jupyter-widgets/controls",
      "model_module_version": "1.5.0",
      "model_name": "DescriptionStyleModel",
      "state": {
       "description_width": ""
      }
     },
     "8167d99b962144f19846a68f1653cf39": {
      "model_module": "@jupyter-widgets/controls",
      "model_module_version": "1.5.0",
      "model_name": "HTMLModel",
      "state": {
       "layout": "IPY_MODEL_57f054d778b7442dbbbf2872c7bcb1e6",
       "style": "IPY_MODEL_e3b4cbc7af9a4ca3a9c70acb941dc43a",
       "value": "<h5>Backend</h5>"
      }
     },
     "8c324a404e944d179868991867ed2b43": {
      "model_module": "@jupyter-widgets/base",
      "model_module_version": "1.2.0",
      "model_name": "LayoutModel",
      "state": {
       "width": "70px"
      }
     },
     "977d7d65fea44d84ab2594aa8c802504": {
      "model_module": "@jupyter-widgets/base",
      "model_module_version": "1.2.0",
      "model_name": "LayoutModel",
      "state": {
       "width": "190px"
      }
     },
     "97e3f76f8bf44e25bcc6f501f47e5d7e": {
      "model_module": "@jupyter-widgets/controls",
      "model_module_version": "1.5.0",
      "model_name": "DescriptionStyleModel",
      "state": {
       "description_width": ""
      }
     },
     "9bc9be6773024c69abfedebd467812db": {
      "model_module": "@jupyter-widgets/controls",
      "model_module_version": "1.5.0",
      "model_name": "DescriptionStyleModel",
      "state": {
       "description_width": ""
      }
     },
     "a58ec10296b0492a91a73f70a6bac7bb": {
      "model_module": "@jupyter-widgets/base",
      "model_module_version": "1.2.0",
      "model_name": "LayoutModel",
      "state": {
       "grid_template_areas": "\n                                       \". . . . right \"\n                                        ",
       "grid_template_columns": "20% 20% 20% 20% 20%",
       "width": "100%"
      }
     },
     "b2363c309f414f78acd8c9884142e72a": {
      "model_module": "@jupyter-widgets/controls",
      "model_module_version": "1.5.0",
      "model_name": "HTMLModel",
      "state": {
       "layout": "IPY_MODEL_ca53d3d038cb4e8194e189c7e6d2d6f1",
       "style": "IPY_MODEL_7a6220ada4584d62bad8d23f5d4e04f2",
       "value": "<p style='font-family: IBM Plex Sans, Arial, Helvetica, sans-serif; font-size: 20px; font-weight: medium;'>Circuit Properties</p>"
      }
     },
     "bc568ba0d9a042758dafcce3d45ec2c4": {
      "model_module": "@jupyter-widgets/controls",
      "model_module_version": "1.5.0",
      "model_name": "HTMLModel",
      "state": {
       "layout": "IPY_MODEL_8c324a404e944d179868991867ed2b43",
       "style": "IPY_MODEL_3f329556617a4b6f8eaa05c0536615f2",
       "value": "<h5>Queue</h5>"
      }
     },
     "c9763f9574fe4fb594defb66a5284d8e": {
      "model_module": "@jupyter-widgets/controls",
      "model_module_version": "1.5.0",
      "model_name": "ButtonStyleModel",
      "state": {}
     },
     "ca53d3d038cb4e8194e189c7e6d2d6f1": {
      "model_module": "@jupyter-widgets/base",
      "model_module_version": "1.2.0",
      "model_name": "LayoutModel",
      "state": {
       "margin": "0px 0px 10px 0px"
      }
     },
     "ce31a5c909f249feb2ff49fc3cd20b7e": {
      "model_module": "@jupyter-widgets/controls",
      "model_module_version": "1.5.0",
      "model_name": "HTMLModel",
      "state": {
       "layout": "IPY_MODEL_6fb0a4edd43340c597c2aeb0c27da470",
       "style": "IPY_MODEL_075e4712b42640bfaffb2b5d00523daf",
       "value": "<h5>Message</h5>"
      }
     },
     "e3b4cbc7af9a4ca3a9c70acb941dc43a": {
      "model_module": "@jupyter-widgets/controls",
      "model_module_version": "1.5.0",
      "model_name": "DescriptionStyleModel",
      "state": {
       "description_width": ""
      }
     },
     "e4aa52bbf76348dab1256e895d3f6d6b": {
      "model_module": "@jupyter-widgets/controls",
      "model_module_version": "1.5.0",
      "model_name": "ButtonModel",
      "state": {
       "button_style": "primary",
       "description": "Clear",
       "layout": "IPY_MODEL_29700edb1ecc4edfafefa13bdc4d3caf",
       "style": "IPY_MODEL_c9763f9574fe4fb594defb66a5284d8e"
      }
     },
     "f0d3f079e2a042aba7ab37d055de1fc4": {
      "model_module": "@jupyter-widgets/controls",
      "model_module_version": "1.5.0",
      "model_name": "HTMLModel",
      "state": {
       "layout": "IPY_MODEL_3a0c64478a894ff7a7e2e9a5f46ea603",
       "style": "IPY_MODEL_97e3f76f8bf44e25bcc6f501f47e5d7e",
       "value": "<h5>Status</h5>"
      }
     }
    },
    "version_major": 2,
    "version_minor": 0
   }
  }
 },
 "nbformat": 4,
 "nbformat_minor": 5
}
